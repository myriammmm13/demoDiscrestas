{
 "cells": [
  {
   "cell_type": "markdown",
   "id": "4b99f1db",
   "metadata": {},
   "source": [
    "Importación de librerías, url y demás datos para el uso en el demo\n",
    "\n",
    "Previamente se instalaron bibliotecas en la terminal como:\n",
    "(torch torchvision torchaudio,\n",
    "torch-geometric,\n",
    "pandas, etc)\n",
    "\n",
    "También se ingresó Anaconda"
   ]
  },
  {
   "cell_type": "code",
   "execution_count": 1421,
   "id": "7f982137",
   "metadata": {},
   "outputs": [],
   "source": [
    "import numpy as np\n",
    "import torch\n",
    "from torchvision import datasets\n",
    "from torchvision.transforms import ToTensor\n",
    "from torch.utils.data import Subset\n",
    "import torch.utils.data.dataloader\n",
    "import torch.utils.data.dataset\n",
    "import pandas as pd\n",
    "import torch.nn.functional as F\n",
    "from torch_geometric.nn import GCNConv\n",
    "import torch.nn as nn\n",
    "import seaborn as sns\n",
    "from sklearn.preprocessing import OrdinalEncoder\n",
    "from sklearn.model_selection import train_test_split, cross_val_score\n",
    "from torch_geometric.data import Data\n",
    "from sklearn.metrics import mean_squared_error\n",
    "from sklearn.neighbors import kneighbors_graph\n",
    "from sklearn.preprocessing import LabelEncoder\n",
    "import matplotlib.pyplot as plt\n",
    "from torch.utils.data import TensorDataset\n",
    "from torch.utils.data import Dataset\n",
    "from torch.utils.data import DataLoader\n"
   ]
  },
  {
   "cell_type": "code",
   "execution_count": 1422,
   "id": "bd778f00",
   "metadata": {},
   "outputs": [
    {
     "name": "stdout",
     "output_type": "stream",
     "text": [
      "Características del tensor X:\n",
      "tensor([[1., 0., 4., 4., 2.],\n",
      "        [1., 2., 0., 4., 4.],\n",
      "        [5., 0., 3., 1., 5.],\n",
      "        ...,\n",
      "        [4., 4., 1., 4., 1.],\n",
      "        [5., 4., 0., 5., 1.],\n",
      "        [1., 1., 5., 4., 5.]])\n",
      "\n",
      "Precio del tensor:\n",
      "tensor([182,  57, 127,  77, 113,  19,  31,  46,  97,  80,  98, 150,  68,  49,\n",
      "         97, 184,  98,  91, 175,  35,  87,  82,  19, 158, 125,  89, 185,  92,\n",
      "        109, 187,  39, 157, 157, 152, 177,  42,  19, 195, 137,  42,  41, 161,\n",
      "        173, 124, 193,  38,  44, 138, 138, 174,  63, 143,  48,  27,  89, 142,\n",
      "        115,  52, 196,  41, 130,  11,  75, 179,  67,  45, 112, 129,  21, 184,\n",
      "         92, 101, 138, 152, 109,  63, 150, 131, 180,  94,  78,  16,  57, 137,\n",
      "        141, 110, 190,  88, 153, 158, 196,  33, 151, 127,  95,  58,  59,  79,\n",
      "        179, 173, 105, 104,  10, 123, 188,  46, 172,  58, 103, 141, 108,  52,\n",
      "        122, 159, 137,  10, 148, 124,  53, 196, 137,  33, 197, 140, 131, 108,\n",
      "         72, 173, 133,  92, 184, 158,  60, 165,  24,  51,  68,  46,  20,  96,\n",
      "         53, 114,  21,  12,  61,  90,  42, 192, 138,  48,  29, 184,  52, 125,\n",
      "        194, 198,  87,  40,  34, 135,  12,  13, 104, 117,  23, 122,  50,  82,\n",
      "         29, 105,  82, 164, 190,  77,  71,  24, 106,  14, 149,  96, 131, 119,\n",
      "         85, 194,  26, 162, 167, 159, 120,  35, 198, 131, 128, 127, 199,  93,\n",
      "        171, 114, 170, 131,  80,  41,  23,  81, 194, 162,  89,  51,  28,  50,\n",
      "        192,  21, 176, 121, 103, 139, 128,  54, 135,  34,  77,  13,  45, 199,\n",
      "         53,  42,  21, 114, 148, 192, 175, 135, 166, 121,  12,  37, 161,  63,\n",
      "         61, 184, 158, 191,  39,  77,  45,  49, 147,  83,  51, 161, 141,  56,\n",
      "        188, 118,  13,  41,  19, 148,  37, 183, 177,  71,  95, 107,  54,  44,\n",
      "        172,  98,  43, 143,  46,  10,  44, 136, 191,  90, 146, 199, 139, 122,\n",
      "         45, 130, 101, 178, 126,  46, 186,  35,  77, 113,  45, 124,  40,  39,\n",
      "         43, 156,  27,  94,  12,  79, 111, 150,  54, 127,  76, 121, 101,  95,\n",
      "        177,  49, 160, 168, 155,  28, 102,  53,  93, 187,  51, 103, 184, 159,\n",
      "         99,  83,  38, 115, 196, 138,  73,  26, 116, 174, 104,  34, 126,  61,\n",
      "        146, 194, 101, 103, 133,  97, 170, 157,  82,  97,  23,  68,  91, 130,\n",
      "        126, 193,  74, 174,  35,  42, 180,  24,  38,  30,  78,  32, 132,  93,\n",
      "        145,  71, 151,  15,  10, 146, 191, 149,  14, 177, 102, 183,  36,  84,\n",
      "         62, 187,  61, 115,  28, 127,  44,  61, 168, 191,  68, 181,  65,  28,\n",
      "        183,  97,  80,  63,  58, 104,  69,  90, 164, 134, 173,  68, 187, 116,\n",
      "         54,  23, 131,  80,  48, 177, 146,  23, 145,  32,  89,  18,  16,  70,\n",
      "        154,  66, 124, 161,  34,  14, 110,  59,  97,  40,  64, 163,  30, 107,\n",
      "        111, 195, 161, 165,  39, 171, 125,  63, 129, 189,  96,  17, 115, 147,\n",
      "        192, 138,  93, 130, 174, 158, 127,  13, 136,  52,  75,  30,  46,  78,\n",
      "        122, 185, 148, 114, 101,  53,  73, 169, 158,  19, 198, 101, 121, 173,\n",
      "         93,  86,  28, 123,  84, 181, 141, 150,  68, 139, 123, 138,  49,  34,\n",
      "        196,  46, 109,  79, 144,  13, 131, 178, 198, 171,  38,  78,  36, 119,\n",
      "        189, 191, 171, 145, 135, 104,  82,  94, 145, 118,  77, 112,  94,  81,\n",
      "         93,  10, 143, 101, 117, 168,  17, 159, 146, 181,  56,  10, 114, 189,\n",
      "         48,  99,  84, 133,  97, 106,  93,  36,  42, 125, 107, 182,  69,  67,\n",
      "        188, 183, 142, 195, 103, 101, 155, 173, 158, 183, 195, 129, 174, 115,\n",
      "         14, 168, 119,  97, 173,  83, 193,  36, 128,  32, 108, 100,  61,  56,\n",
      "         71, 198,  57, 114, 138, 148, 151,  81, 104,  16, 183, 168,  25, 179,\n",
      "        176,  63, 181,  92, 145,  75, 179,  76, 124, 102,  88, 110, 169, 188,\n",
      "        184, 103, 124, 171,  22,  90,  76, 135, 148, 122, 165, 194, 130,  75,\n",
      "         98,  44,  13, 198, 175, 181,  98,  80, 158, 144,  38, 125, 144,  76,\n",
      "        102, 112, 111, 133, 119,  83, 110, 192,  87, 159, 169,  91,  45, 146,\n",
      "         35,  31, 183, 154, 163, 129, 175, 137, 139, 143, 150, 100,  84, 192,\n",
      "         88,  72,  82,  55, 143,  57, 197, 180, 148,  67,  99, 141, 135,  92,\n",
      "        196, 142,  27, 104, 162, 141,  79, 178, 174,  68, 187, 193, 162, 171,\n",
      "        156, 107, 145, 191,  56, 137, 171,  91, 167,  22, 128,  56, 128,  42,\n",
      "         44, 125,  97, 134, 163, 184, 117,  62, 120,  74,  86, 128,  83, 156,\n",
      "         14,  17, 141,  58,  86,  47, 126,  58, 119, 189,  59,  81, 100, 187,\n",
      "         39,  13,  84,  94,  75, 129,  30,  52,  38, 164,  97, 190,  58, 112,\n",
      "         19,  12, 126, 118,  99, 134, 127, 110, 100,  78, 115,  20,  22, 114,\n",
      "        175, 177, 170, 132,  43, 164, 109,  60,  98,  30, 166,  82,  28, 163,\n",
      "        162,  49, 133,  38, 162, 156, 182,  55,  64,  10, 148, 144, 109, 195,\n",
      "        157, 172,  60, 112,  30, 181, 128, 138, 119, 115, 150,  25, 128,  43,\n",
      "        161, 150, 143,  48,  11,  20,  16, 135,  16, 112, 176,  85, 124,  95,\n",
      "        136, 124, 188,  61,  12,  86, 167,  19, 125, 143, 126, 191,  53,  89,\n",
      "         72,  86,  57,  86, 159, 130,  28,  99,  23, 102, 115,  16, 110,  58,\n",
      "         50, 164, 168, 143, 153,  47,  69, 123, 105, 106,  42,  72, 148, 150,\n",
      "        103,  74, 167, 100, 160, 157, 143,  46,  93, 137,  15, 102, 164,  93,\n",
      "        150, 145, 190,  90, 167,  10,  84, 141,  71,  77, 154, 122,  94, 126,\n",
      "         66,  72, 194,  58, 155, 127, 195,  19,  89, 171, 142, 154,  81,  72,\n",
      "         33, 101, 120,  17,  32, 108, 168,  90, 165,  57, 124,  21,  88,  40,\n",
      "        100,  44,  64,  91, 173,  81, 119,  69, 122, 175,  78, 191,  23, 111,\n",
      "         29, 117,  18, 106, 134, 110, 139, 167, 143, 178, 160,  40,  29,  14,\n",
      "        158, 116,  84, 133,  70, 103, 179,  50, 198, 189,  50,  69,  39, 104,\n",
      "        175, 136,  26, 109, 177, 167,  75,  33, 138,  97,  47, 121, 164,  99,\n",
      "        144, 111,  51, 155, 122,  53, 120, 128, 157,  32, 119, 149,  21, 171,\n",
      "        145, 129,  36,  58, 192, 106, 110,  92,  97, 159,  12,  18,  20,  15,\n",
      "         48, 176, 110, 127,  69, 174])\n",
      "Tamaño tensor x:  torch.Size([1000, 5])\n",
      "Tamaño tensor y:  torch.Size([1000])\n",
      "Tamaño tensor t:  torch.Size([1000, 6])\n"
     ]
    }
   ],
   "source": [
    "data_clothes = pd.read_csv('https://raw.githubusercontent.com/myriammmm13/demoDiscrestas/main/clothes_price_prediction_data.csv')\n",
    "\n",
    "# Codificar las columnas de categorías/atributos\n",
    "label_encoders = {}\n",
    "categorias_columnas = ['Brand', 'Category', 'Color', 'Size', 'Material']\n",
    "todos_columans= ['Brand', 'Category', 'Color', 'Size', 'Material', 'Price']\n",
    "for columna in categorias_columnas:\n",
    "    le = LabelEncoder()\n",
    "    data_clothes[columna] = le.fit_transform(data_clothes[columna])\n",
    "    label_encoders[columna] = le\n",
    "\n",
    "# división de los valores a predecir/precio (y) y los atributos a utilizar para predecir (x)\n",
    "X = data_clothes[categorias_columnas].values\n",
    "y = data_clothes['Price'].values\n",
    "t=data_clothes[todos_columans].values\n",
    "\n",
    "# Paso a tensores\n",
    "X_tensor = torch.tensor(X, dtype=torch.float32)\n",
    "y_tensor = torch.tensor(y, dtype=torch.long)\n",
    "t_tensor = torch.tensor(t, dtype=torch.float32)\n",
    "print(\"Características del tensor X:\")\n",
    "print(X_tensor)\n",
    "print(\"\\nPrecio del tensor:\")\n",
    "print(y_tensor)\n",
    "print(\"Tamaño tensor x: \", X_tensor.shape)\n",
    "print(\"Tamaño tensor y: \", y_tensor.shape)\n",
    "print(\"Tamaño tensor t: \", t_tensor.shape)"
   ]
  },
  {
   "cell_type": "markdown",
   "id": "c460c3bd",
   "metadata": {},
   "source": [
    "Con esta celda anterior se logró pasar el dasaset a tensores, siendo dividido los nodos con sus atributos (Material, Size, Brand, etc) y otro tensor con el precio de cada uno."
   ]
  },
  {
   "cell_type": "code",
   "execution_count": 1423,
   "id": "c3427b2b",
   "metadata": {},
   "outputs": [
    {
     "name": "stdout",
     "output_type": "stream",
     "text": [
      "Usando cpu\n"
     ]
    }
   ],
   "source": [
    "#decive\n",
    "device = (\n",
    "    \"cuda\" if torch.cuda.is_available()\n",
    "    else \"cpu\"\n",
    ")\n",
    "print(f\"Usando {device}\")"
   ]
  },
  {
   "cell_type": "code",
   "execution_count": 1424,
   "id": "a880853d",
   "metadata": {},
   "outputs": [
    {
     "data": {
      "text/plain": [
       "Brand         6\n",
       "Category      6\n",
       "Color         6\n",
       "Size          6\n",
       "Material      6\n",
       "Price       190\n",
       "dtype: int64"
      ]
     },
     "execution_count": 1424,
     "metadata": {},
     "output_type": "execute_result"
    }
   ],
   "source": [
    "data_clothes[data_clothes.columns].nunique()"
   ]
  },
  {
   "cell_type": "markdown",
   "id": "87670d13",
   "metadata": {},
   "source": [
    "Muestra la cantidad de \"variantes\" que existen en cada categoría/atributo"
   ]
  },
  {
   "cell_type": "code",
   "execution_count": 1425,
   "id": "2d7e798c",
   "metadata": {},
   "outputs": [],
   "source": [
    "class GCN(nn.Module):\n",
    "    def __init__(self):\n",
    "        super(GCN, self).__init__()\n",
    "        self.red = nn.Sequential(\n",
    "            nn.Linear(5, 32), \n",
    "            nn.ReLU(),\n",
    "            nn.Linear(32,200),\n",
    "        )#5=capa entrada, 32=neuronas, 190=capa salida\n",
    "        #la capa de salida posee 190 porque son la cantidad de \"variantes\" que se pueden dar en precio :)\n",
    "\n",
    "    def forward(self, data):\n",
    "        #pre, edge_index = data.x, data.edge_index\n",
    "        predd = self.red(data) # Genera la predicción\n",
    "        return predd\n",
    "modelo=GCN().to(device)"
   ]
  },
  {
   "cell_type": "markdown",
   "id": "6794ec57",
   "metadata": {},
   "source": [
    "Se inicializan las clases necesarias para la creación del gcn, además de las capas de entrada, oculta y de salida"
   ]
  },
  {
   "cell_type": "code",
   "execution_count": 1426,
   "id": "c0d2961b",
   "metadata": {},
   "outputs": [
    {
     "data": {
      "text/plain": [
       "<torch._C.Generator at 0x1f342e49df0>"
      ]
     },
     "execution_count": 1426,
     "metadata": {},
     "output_type": "execute_result"
    }
   ],
   "source": [
    "torch.manual_seed(123)"
   ]
  },
  {
   "cell_type": "code",
   "execution_count": 1427,
   "id": "a8b681d5",
   "metadata": {},
   "outputs": [
    {
     "name": "stdout",
     "output_type": "stream",
     "text": [
      "Tamaño set de entrenamiento: 800\n",
      "Tamaño set de validación: 100\n",
      "Tamaño set de prueba: 100\n",
      "Tipo de dato set \"train\": <class 'torch.utils.data.dataset.Subset'>\n",
      "Tipo de dato set \"val\": <class 'torch.utils.data.dataset.Subset'>\n",
      "Tipo de dato set \"test\": <class 'torch.utils.data.dataset.Subset'>\n",
      "<class 'torch.Tensor'>\n"
     ]
    }
   ],
   "source": [
    "trai, val, test = torch.utils.data.random_split(\n",
    "    t_tensor, [0.8, 0.1, 0.1],\n",
    ")\n",
    "\n",
    "# Verificar tamaños\n",
    "print(f'Tamaño set de entrenamiento: {len(trai)}')\n",
    "print(f'Tamaño set de validación: {len(val)}')\n",
    "print(f'Tamaño set de prueba: {len(test)}')\n",
    "\n",
    "# Y verificar el tipo de dato de trai, val y test\n",
    "print(f'Tipo de dato set \"train\": {type(trai)}')\n",
    "print(f'Tipo de dato set \"val\": {type(val)}')\n",
    "print(f'Tipo de dato set \"test\": {type(test)}')\n",
    "\n",
    "a= trai[200]\n",
    "print(type(a))"
   ]
  },
  {
   "cell_type": "markdown",
   "id": "4d47250b",
   "metadata": {},
   "source": [
    "Esta partición de los datos se realiza para poder usarlos en las 3 etapas a desarollar: Entrenamiento, validación y testeo"
   ]
  },
  {
   "cell_type": "code",
   "execution_count": 1428,
   "id": "d732d944",
   "metadata": {},
   "outputs": [],
   "source": [
    "def summary_categorical_dist(df_data, col):\n",
    "    fig = plt.figure(figsize = (8, 4), facecolor = \"white\")\n",
    "\n",
    "    layout_plot = (1, 2)  \n",
    "    num_subplot = 2\n",
    "    axes = [None for _ in range(num_subplot)]\n",
    "    list_shape_subplot = [[(0, 0), (0, 1)], [1, 1], [1, 1]]\n",
    "    for i in range(num_subplot):\n",
    "        axes[i] = plt.subplot2grid(\n",
    "            layout_plot, list_shape_subplot[0][i],\n",
    "            rowspan = list_shape_subplot[1][i],\n",
    "            colspan = list_shape_subplot[2][i]\n",
    "        )\n",
    "    \n",
    "    count = df_data[col].value_counts().sort_index()\n",
    "    \n",
    "    sns.countplot(data = df_data, y = col, order = count.index, ax = axes[0])\n",
    "    axes[1].pie(data = df_data, x = count, labels = count.index, autopct = '%1.1f%%', startangle = 90)\n",
    "    \n",
    "    list_title = [\"Cantidad\", \"Proporciones\"]\n",
    "    for i in range(num_subplot):\n",
    "        axes[i].set_title(list_title[i])\n",
    "    plt.suptitle(f\"Distribución de: {col}\", fontsize = 15)\n",
    "    plt.tight_layout()\n",
    "    plt.show()"
   ]
  },
  {
   "cell_type": "code",
   "execution_count": 1429,
   "id": "bc428bcd",
   "metadata": {},
   "outputs": [
    {
     "data": {
      "image/png": "[encoded data removed]",
      "text/plain": [
       "<Figure size 800x400 with 2 Axes>"
      ]
     },
     "metadata": {},
     "output_type": "display_data"
    }
   ],
   "source": [
    "summary_categorical_dist(data_clothes, 'Brand')"
   ]
  },
  {
   "cell_type": "code",
   "execution_count": 1430,
   "id": "c5ffda2a",
   "metadata": {},
   "outputs": [
    {
     "data": {
      "image/png": "[encoded data removed]",
      "text/plain": [
       "<Figure size 800x400 with 2 Axes>"
      ]
     },
     "metadata": {},
     "output_type": "display_data"
    }
   ],
   "source": [
    "summary_categorical_dist(data_clothes, 'Material')"
   ]
  },
  {
   "cell_type": "markdown",
   "id": "7f4dab44",
   "metadata": {},
   "source": [
    "¡¡Extra!!\n",
    "Esta zona se utiliza para hacerse a una idea gráfica del dataset, no tiene una funcionalidad en el entrenamiento como tal.\n",
    "Con esto me ayudo a darme una mejor idea de cómo se están manejando los datos, ya que en un principio no se tenía la claridad de si se utilizaban como números (por el cambio que se hizo anteriormente) o si se sigue usando con normalidad"
   ]
  },
  {
   "cell_type": "code",
   "execution_count": 1431,
   "id": "78ca336e",
   "metadata": {},
   "outputs": [
    {
     "data": {
      "text/html": [
       "<div>\n",
       "<style scoped>\n",
       "    .dataframe tbody tr th:only-of-type {\n",
       "        vertical-align: middle;\n",
       "    }\n",
       "\n",
       "    .dataframe tbody tr th {\n",
       "        vertical-align: top;\n",
       "    }\n",
       "\n",
       "    .dataframe thead th {\n",
       "        text-align: right;\n",
       "    }\n",
       "</style>\n",
       "<table border=\"1\" class=\"dataframe\">\n",
       "  <thead>\n",
       "    <tr style=\"text-align: right;\">\n",
       "      <th></th>\n",
       "      <th>count</th>\n",
       "      <th>mean</th>\n",
       "      <th>std</th>\n",
       "      <th>min</th>\n",
       "      <th>25%</th>\n",
       "      <th>50%</th>\n",
       "      <th>75%</th>\n",
       "      <th>max</th>\n",
       "    </tr>\n",
       "  </thead>\n",
       "  <tbody>\n",
       "    <tr>\n",
       "      <th>Brand</th>\n",
       "      <td>1000.0</td>\n",
       "      <td>2.52</td>\n",
       "      <td>1.72</td>\n",
       "      <td>0.0</td>\n",
       "      <td>1.00</td>\n",
       "      <td>3.0</td>\n",
       "      <td>4.0</td>\n",
       "      <td>5.0</td>\n",
       "    </tr>\n",
       "    <tr>\n",
       "      <th>Category</th>\n",
       "      <td>1000.0</td>\n",
       "      <td>2.40</td>\n",
       "      <td>1.67</td>\n",
       "      <td>0.0</td>\n",
       "      <td>1.00</td>\n",
       "      <td>2.0</td>\n",
       "      <td>4.0</td>\n",
       "      <td>5.0</td>\n",
       "    </tr>\n",
       "    <tr>\n",
       "      <th>Color</th>\n",
       "      <td>1000.0</td>\n",
       "      <td>2.54</td>\n",
       "      <td>1.71</td>\n",
       "      <td>0.0</td>\n",
       "      <td>1.00</td>\n",
       "      <td>3.0</td>\n",
       "      <td>4.0</td>\n",
       "      <td>5.0</td>\n",
       "    </tr>\n",
       "    <tr>\n",
       "      <th>Size</th>\n",
       "      <td>1000.0</td>\n",
       "      <td>2.64</td>\n",
       "      <td>1.68</td>\n",
       "      <td>0.0</td>\n",
       "      <td>1.00</td>\n",
       "      <td>3.0</td>\n",
       "      <td>4.0</td>\n",
       "      <td>5.0</td>\n",
       "    </tr>\n",
       "    <tr>\n",
       "      <th>Material</th>\n",
       "      <td>1000.0</td>\n",
       "      <td>2.55</td>\n",
       "      <td>1.71</td>\n",
       "      <td>0.0</td>\n",
       "      <td>1.00</td>\n",
       "      <td>3.0</td>\n",
       "      <td>4.0</td>\n",
       "      <td>5.0</td>\n",
       "    </tr>\n",
       "    <tr>\n",
       "      <th>Price</th>\n",
       "      <td>1000.0</td>\n",
       "      <td>106.29</td>\n",
       "      <td>53.70</td>\n",
       "      <td>10.0</td>\n",
       "      <td>59.75</td>\n",
       "      <td>108.0</td>\n",
       "      <td>150.0</td>\n",
       "      <td>199.0</td>\n",
       "    </tr>\n",
       "  </tbody>\n",
       "</table>\n",
       "</div>"
      ],
      "text/plain": [
       "           count    mean    std   min    25%    50%    75%    max\n",
       "Brand     1000.0    2.52   1.72   0.0   1.00    3.0    4.0    5.0\n",
       "Category  1000.0    2.40   1.67   0.0   1.00    2.0    4.0    5.0\n",
       "Color     1000.0    2.54   1.71   0.0   1.00    3.0    4.0    5.0\n",
       "Size      1000.0    2.64   1.68   0.0   1.00    3.0    4.0    5.0\n",
       "Material  1000.0    2.55   1.71   0.0   1.00    3.0    4.0    5.0\n",
       "Price     1000.0  106.29  53.70  10.0  59.75  108.0  150.0  199.0"
      ]
     },
     "metadata": {},
     "output_type": "display_data"
    }
   ],
   "source": [
    "display(data_clothes.describe().round(2).T) "
   ]
  },
  {
   "cell_type": "markdown",
   "id": "9b845cd3",
   "metadata": {},
   "source": [
    "Cada número en cada categoria significa una de las 6 posibilidades a existir en ellas. Únicamente en precio varía por las distintas posibilidades que hay entre el 10 y el 199."
   ]
  },
  {
   "cell_type": "code",
   "execution_count": 1432,
   "id": "a59c4f27",
   "metadata": {},
   "outputs": [
    {
     "name": "stderr",
     "output_type": "stream",
     "text": [
      "c:\\Users\\Myria\\AppData\\Local\\Programs\\Python\\Python312\\Lib\\site-packages\\sklearn\\utils\\validation.py:2749: UserWarning: X does not have valid feature names, but NearestNeighbors was fitted with feature names\n",
      "  warnings.warn(\n"
     ]
    }
   ],
   "source": [
    "k = 5  # número de vecinos a crear por nodo\n",
    "adj_matrix = kneighbors_graph(data_clothes.iloc[:, :-1], k, mode='connectivity', include_self=True)\n",
    "edge_index = torch.tensor(adj_matrix.nonzero(), dtype=torch.long)\n",
    "data_ = Data(x=X_tensor, edge_index=edge_index, y=y_tensor)"
   ]
  },
  {
   "cell_type": "markdown",
   "id": "c45131d0",
   "metadata": {},
   "source": [
    "Se generan variables que ayudarán al método \"train\", además de matriz de adyacencia y edge_index"
   ]
  },
  {
   "cell_type": "code",
   "execution_count": 1433,
   "id": "0b181db9",
   "metadata": {},
   "outputs": [
    {
     "name": "stdout",
     "output_type": "stream",
     "text": [
      "tensor([ 3.,  4.,  4.,  5.,  0., 62.])\n"
     ]
    }
   ],
   "source": [
    "a1, a2, a3, a4, a5, ind=trai[55]#aquí se puede cambiar el valor de los [] para testear otros nodos\n",
    "print(trai[55])\n",
    "\n",
    "nd= [a1, a2, a3, a4, a5]\n",
    "nd = torch.stack(nd)"
   ]
  },
  {
   "cell_type": "markdown",
   "id": "e485551a",
   "metadata": {},
   "source": [
    "se obtiene un nodo de prueba, se pasa a tuple, luego a tensor y por último a data para poder realizar la predicción. EL siguiente bloque de código realiza el Forward Propagation"
   ]
  },
  {
   "cell_type": "code",
   "execution_count": 1434,
   "id": "1ae18ca9",
   "metadata": {},
   "outputs": [
    {
     "name": "stdout",
     "output_type": "stream",
     "text": [
      "Logits: tensor([ 0.4539,  0.1117,  0.7115,  0.7937,  0.9299, -1.0415,  1.5861,  0.2513,\n",
      "         0.4273,  0.2919, -0.4183, -0.5231, -1.4996,  1.4313, -0.6240, -0.2605,\n",
      "         0.2788,  0.4148,  0.2845, -0.5888,  0.7350, -0.6267,  0.3586,  0.5743,\n",
      "        -0.2470, -1.5289, -0.4203,  0.7593,  0.1860, -0.1825,  0.1324,  0.7709,\n",
      "         0.0231, -0.1044,  0.7810,  0.3077,  0.4394,  0.5455, -1.4398,  0.6745,\n",
      "        -1.0590,  0.4941, -0.2226,  0.8127,  0.1327, -1.0340, -0.7917, -1.0661,\n",
      "         0.5976,  0.5381,  0.0240,  0.5096,  0.2879, -0.6454, -0.9369,  1.0672,\n",
      "         0.1736,  0.7962, -0.2104,  0.5487,  0.5147, -0.2924, -0.2238, -0.9016,\n",
      "         0.1426,  0.0875, -0.6365, -0.6185, -0.7802,  0.0874,  0.1174, -0.8032,\n",
      "         0.1669,  0.5899,  0.8455,  0.8577,  0.8928,  0.2737, -1.1088,  0.0348,\n",
      "         0.7634, -0.5162,  0.0579,  0.0715, -0.2231, -0.2781,  0.0299, -0.3329,\n",
      "        -0.4918, -0.5092, -1.3725, -0.7221,  0.3255, -1.0031, -0.4270, -0.3923,\n",
      "         0.6281,  1.2335,  0.0067,  0.8693, -0.5628, -0.6964,  0.0662, -0.2161,\n",
      "        -0.0144, -0.5065, -0.1307, -0.5148, -0.3016,  0.0573, -0.0655,  0.5546,\n",
      "         0.0463,  0.5751, -0.0608, -0.7399,  0.0346,  0.4772, -0.7416,  0.5498,\n",
      "         0.6375, -1.2701,  0.1070,  0.3887, -0.6561, -0.3989,  0.6692, -1.1193,\n",
      "         0.1656, -0.1057,  0.3563,  0.2724, -0.2452,  0.6230,  1.0235, -1.0811,\n",
      "         0.3551, -0.1809,  0.5170, -0.5515, -0.3641,  0.2858, -0.0356, -0.0527,\n",
      "         0.3035,  0.2210, -0.6230, -0.0483, -0.4764,  0.5185, -0.9607, -0.9699,\n",
      "         0.3686,  0.4297, -0.5557,  0.6291, -0.0452,  0.0711, -1.6577, -0.3058,\n",
      "         0.6651,  0.3516, -1.1193,  0.2035,  0.3523,  0.2518, -0.7358, -0.0481,\n",
      "         0.5325,  1.1298,  0.7213, -0.4916, -0.2773, -1.2955,  1.0136,  0.1489,\n",
      "        -1.1026,  0.7931, -0.0550,  1.3651, -0.1299, -0.8985, -0.4793,  0.1019,\n",
      "        -0.2005, -1.2238,  0.0288, -0.7204,  0.6754,  0.2962, -1.0233, -1.6658,\n",
      "        -1.0501,  0.0125,  0.4961, -1.1215, -0.0365,  0.3440,  0.9054, -0.1182],\n",
      "       grad_fn=<ViewBackward0>)\n",
      "Categoría predicha: 6\n",
      "Categoría real: 62.0\n"
     ]
    }
   ],
   "source": [
    "predd = modelo(nd)\n",
    "\n",
    "# Predicción\n",
    "y_pred = predd.argmax()\n",
    "\n",
    "print(f'Logits: {predd}')\n",
    "print(f'Categoría predicha: {y_pred}')\n",
    "print(f'Categoría real: {ind}')"
   ]
  },
  {
   "cell_type": "markdown",
   "id": "a7f8e630",
   "metadata": {},
   "source": [
    "Logits equivale a los las predicciones que se han hecho, de ahí se selecciona la mayor en y_pred y esa es la predicción que se compara con el precio real. Ahora se realizará el backward propagation."
   ]
  },
  {
   "cell_type": "code",
   "execution_count": 1435,
   "id": "3817f38d",
   "metadata": {},
   "outputs": [],
   "source": [
    "Taza_aprendizaje=0.1\n",
    "EPOCHS=10\n",
    "Tam_data=100 #tamaño de los lotes que se enviarán para entrenamiento y validación, para no enviar todo directamente"
   ]
  },
  {
   "cell_type": "code",
   "execution_count": 1436,
   "id": "a44db252",
   "metadata": {},
   "outputs": [],
   "source": [
    "m_perdida=nn.CrossEntropyLoss()\n",
    "optimizador=torch.optim.SGD(modelo.parameters(), Taza_aprendizaje)"
   ]
  },
  {
   "cell_type": "code",
   "execution_count": 1437,
   "id": "b344197a",
   "metadata": {},
   "outputs": [
    {
     "name": "stdout",
     "output_type": "stream",
     "text": [
      "tensor(5.6864, grad_fn=<NllLossBackward0>)\n"
     ]
    }
   ],
   "source": [
    "predd = predd.view(1, -1) \n",
    "ind = ind.view(-1).long() \n",
    "\n",
    "perdida=m_perdida(predd, ind)\n",
    "print(perdida)\n",
    "perdida.backward()\n",
    "\n",
    "optimizador.step()\n",
    "optimizador.zero_grad()"
   ]
  },
  {
   "cell_type": "code",
   "execution_count": 1438,
   "id": "9a14c37a",
   "metadata": {},
   "outputs": [],
   "source": [
    "def train_loop(dataloader, model, loss_fn, optimizer):\n",
    "    train_size = len(dataloader.dataset)\n",
    "    nlotes = len(dataloader)\n",
    "    model.train()\n",
    "\n",
    "    perdida_train, exactitud = 0, 0\n",
    "    \n",
    "    for nlote, (x) in enumerate(dataloader):\n",
    "        a,b,c,d,e,f=x[nlote]\n",
    "        X=[a,b,c,d,e]\n",
    "        X = torch.stack(X)\n",
    "        f = f.view(-1).long() \n",
    "        logits = model(X)\n",
    "        logits = logits.view(1, -1) \n",
    "        \n",
    "        loss = loss_fn(logits, f)\n",
    "\n",
    "        loss.backward()\n",
    "        optimizer.step()\n",
    "        optimizer.zero_grad()\n",
    "\n",
    "        perdida_train += loss.item()\n",
    "        exactitud += (logits.argmax(1) == f).type(torch.float).sum().item()\n",
    "\n",
    "        if nlote % 10 == 0:\n",
    "            ndatos = nlote * dataloader.batch_size\n",
    "            print(f\"\\tPérdida: {loss.item():>7f}  [{ndatos:>5d}/{train_size:>5d}]\")\n",
    "\n",
    "    perdida_train /= nlotes\n",
    "    exactitud /= train_size\n",
    "\n",
    "    print(f'\\tExactitud/pérdida promedio:')\n",
    "    print(f'\\t\\tEntrenamiento: {(100*exactitud):>0.1f}% / {perdida_train:>8f}')"
   ]
  },
  {
   "cell_type": "code",
   "execution_count": 1439,
   "id": "bcee3b76",
   "metadata": {},
   "outputs": [],
   "source": [
    "def val_loop(dataloader, model, loss_fn):\n",
    "    val_size = len(dataloader.dataset)\n",
    "    nlotes = len(dataloader)\n",
    "    model.eval()\n",
    "    perdida_val, exactitud = 0, 0\n",
    "\n",
    "    with torch.no_grad():\n",
    "        for ind,(x) in enumerate(dataloader):\n",
    "            \n",
    "            a,b,c,d,e,f=x[ind]\n",
    "            X=[a,b,c,d,e]\n",
    "            X = torch.stack(X)\n",
    "            f = f.view(-1).long() \n",
    "\n",
    "            logits = model(X)\n",
    "            logits = logits.view(1, -1) \n",
    "\n",
    "            perdida_val += loss_fn(logits, f).item()\n",
    "            exactitud += (logits.argmax(1) == f).type(torch.float).sum().item()\n",
    "    perdida_val /= nlotes\n",
    "    exactitud /= val_size\n",
    "\n",
    "    print(f\"\\t\\tValidación: {(100*exactitud):>0.1f}% / {perdida_val:>8f} \\n\")"
   ]
  },
  {
   "cell_type": "code",
   "execution_count": 1440,
   "id": "718c8669",
   "metadata": {},
   "outputs": [],
   "source": [
    "train_loader = DataLoader(\n",
    "    dataset=trai,\n",
    "    batch_size=Tam_data,\n",
    "    shuffle=True\n",
    ")\n",
    "\n",
    "val_loader = DataLoader(\n",
    "    dataset=val,\n",
    "    batch_size=Tam_data,\n",
    "    shuffle=False\n",
    ")"
   ]
  },
  {
   "cell_type": "code",
   "execution_count": 1441,
   "id": "5dce8dee",
   "metadata": {},
   "outputs": [
    {
     "name": "stdout",
     "output_type": "stream",
     "text": [
      "Iteración 1/10\n",
      "-------------------------------\n",
      "\tPérdida: 4.761125  [    0/  800]\n",
      "\tExactitud/pérdida promedio:\n",
      "\t\tEntrenamiento: 0.0% / 5.849262\n",
      "\t\tValidación: 0.0% / 5.163620 \n",
      "\n",
      "Iteración 2/10\n",
      "-------------------------------\n",
      "\tPérdida: 5.521877  [    0/  800]\n",
      "\tExactitud/pérdida promedio:\n",
      "\t\tEntrenamiento: 0.0% / 5.503125\n",
      "\t\tValidación: 0.0% / 5.112543 \n",
      "\n",
      "Iteración 3/10\n",
      "-------------------------------\n",
      "\tPérdida: 5.652049  [    0/  800]\n",
      "\tExactitud/pérdida promedio:\n",
      "\t\tEntrenamiento: 0.0% / 5.325648\n",
      "\t\tValidación: 0.0% / 5.163546 \n",
      "\n",
      "Iteración 4/10\n",
      "-------------------------------\n",
      "\tPérdida: 4.955112  [    0/  800]\n",
      "\tExactitud/pérdida promedio:\n",
      "\t\tEntrenamiento: 0.0% / 5.255251\n",
      "\t\tValidación: 0.0% / 5.286507 \n",
      "\n",
      "Iteración 5/10\n",
      "-------------------------------\n",
      "\tPérdida: 5.205508  [    0/  800]\n",
      "\tExactitud/pérdida promedio:\n",
      "\t\tEntrenamiento: 0.0% / 5.655105\n",
      "\t\tValidación: 0.0% / 5.195798 \n",
      "\n",
      "Iteración 6/10\n",
      "-------------------------------\n",
      "\tPérdida: 5.209272  [    0/  800]\n",
      "\tExactitud/pérdida promedio:\n",
      "\t\tEntrenamiento: 0.0% / 5.068499\n",
      "\t\tValidación: 0.0% / 5.339774 \n",
      "\n",
      "Iteración 7/10\n",
      "-------------------------------\n",
      "\tPérdida: 5.569693  [    0/  800]\n",
      "\tExactitud/pérdida promedio:\n",
      "\t\tEntrenamiento: 0.1% / 5.351347\n",
      "\t\tValidación: 0.0% / 5.279705 \n",
      "\n",
      "Iteración 8/10\n",
      "-------------------------------\n",
      "\tPérdida: 5.347300  [    0/  800]\n",
      "\tExactitud/pérdida promedio:\n",
      "\t\tEntrenamiento: 0.0% / 5.395085\n",
      "\t\tValidación: 0.0% / 5.197062 \n",
      "\n",
      "Iteración 9/10\n",
      "-------------------------------\n",
      "\tPérdida: 5.473660  [    0/  800]\n",
      "\tExactitud/pérdida promedio:\n",
      "\t\tEntrenamiento: 0.0% / 5.307198\n",
      "\t\tValidación: 0.0% / 5.201367 \n",
      "\n",
      "Iteración 10/10\n",
      "-------------------------------\n",
      "\tPérdida: 5.540754  [    0/  800]\n",
      "\tExactitud/pérdida promedio:\n",
      "\t\tEntrenamiento: 0.0% / 5.342330\n",
      "\t\tValidación: 0.0% / 5.205610 \n",
      "\n",
      "Modelo entrenado\n"
     ]
    }
   ],
   "source": [
    "for t in range(EPOCHS):\n",
    "    print(f\"Iteración {t+1}/{EPOCHS}\\n-------------------------------\")\n",
    "    train_loop(train_loader, modelo, m_perdida, optimizador)\n",
    "    val_loop(val_loader, modelo, m_perdida)\n",
    "print(\"Modelo entrenado\")"
   ]
  }
 ],
 "metadata": {
  "kernelspec": {
   "display_name": "Python 3",
   "language": "python",
   "name": "python3"
  },
  "language_info": {
   "codemirror_mode": {
    "name": "ipython",
    "version": 3
   },
   "file_extension": ".py",
   "mimetype": "text/x-python",
   "name": "python",
   "nbconvert_exporter": "python",
   "pygments_lexer": "ipython3",
   "version": "3.12.1"
  }
 },
 "nbformat": 4,
 "nbformat_minor": 5
}
